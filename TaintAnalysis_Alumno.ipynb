{
  "nbformat": 4,
  "nbformat_minor": 0,
  "metadata": {
    "colab": {
      "provenance": []
    },
    "kernelspec": {
      "name": "python3",
      "display_name": "Python 3"
    },
    "language_info": {
      "name": "python"
    }
  },
  "cells": [
    {
      "cell_type": "markdown",
      "source": [
        "## Clase TSTR\n"
      ],
      "metadata": {
        "id": "WGPAFGozntXE"
      }
    },
    {
      "cell_type": "code",
      "source": [
        "from typing import *"
      ],
      "metadata": {
        "id": "0eCbNTfKn9ZV"
      },
      "execution_count": null,
      "outputs": []
    },
    {
      "cell_type": "markdown",
      "source": [
        "### Métodos  proxy definidos a *Mano*"
      ],
      "metadata": {
        "id": "5jnv4V_I5z4o"
      }
    },
    {
      "cell_type": "code",
      "source": [
        "# Este código base es del libro fuzzing book\n",
        "class tstr(str):\n",
        "    \"\"\"Wrapper for strings, saving taint information\"\"\"\n",
        "\n",
        "    def __new__(cls, value, *args, **kw):\n",
        "        \"\"\"Create a tstr() instance. Used internally.\"\"\"\n",
        "        return str.__new__(cls, value)\n",
        "\n",
        "    def __init__(self, value: Any, taint: Any = None, **kwargs) -> None:\n",
        "        \"\"\"Constructor.\n",
        "        `value` is the string value the `tstr` object is to be constructed from.\n",
        "        `taint` is an (optional) taint to be propagated to derived strings.\"\"\"\n",
        "        self.taint: Any = taint\n",
        "\n",
        "    def __repr__(self):\n",
        "        \"\"\"Return a representation.\"\"\"\n",
        "        return tstr(str.__repr__(self), taint=self.taint)\n",
        "\n",
        "    def __str__(self) -> str:\n",
        "        \"\"\"Convert to string\"\"\"\n",
        "        return str.__str__(self)\n",
        "\n",
        "    def clear_taint(self):\n",
        "        \"\"\"Remove taint\"\"\"\n",
        "        self.taint = None\n",
        "        self.trace = []\n",
        "        return self\n",
        "\n",
        "    def has_taint(self):\n",
        "        \"\"\"Check if taint is present\"\"\"\n",
        "        return self.taint is not None\n",
        "\n",
        "    def create(self, s):\n",
        "        return tstr(s, taint=self.taint)\n",
        "\n",
        "    def __radd__(self, value):\n",
        "        \"\"\"Return value + self, as a `tstr` object\"\"\"\n",
        "        return self.create(value + str(self))\n",
        "\n",
        "    @staticmethod\n",
        "    def make_str_wrapper(fun, name):\n",
        "        \"\"\"Make `fun` (a `str` method) a method in `tstr`\"\"\"\n",
        "        def proxy(self, *args, **kwargs):\n",
        "            res = fun(self, *args, **kwargs)\n",
        "            return self.create(res)\n",
        "\n",
        "        if hasattr(fun, '__doc__'):\n",
        "            # Copy docstring\n",
        "            proxy.__doc__ = fun.__doc__\n",
        "\n",
        "        return proxy"
      ],
      "metadata": {
        "id": "zCDRBQgJ5tym"
      },
      "execution_count": null,
      "outputs": []
    },
    {
      "cell_type": "markdown",
      "source": [
        "### Métodos Proxy Autogenerados"
      ],
      "metadata": {
        "id": "gKx_WwzZ582i"
      }
    },
    {
      "cell_type": "code",
      "source": [
        "def informationflow_init_1():\n",
        "    for name in ['__format__', '__mod__', '__rmod__', '__getitem__',\n",
        "                 '__add__', '__mul__', '__rmul__',\n",
        "                 'capitalize', 'casefold', 'center', 'encode',\n",
        "                 'expandtabs', 'format', 'format_map', 'join',\n",
        "                 'ljust', 'lower', 'lstrip', 'replace',\n",
        "                 'rjust', 'rstrip', 'strip', 'swapcase', 'title', 'translate', 'upper']:\n",
        "        fun = getattr(str, name)\n",
        "        setattr(tstr, name, tstr.make_str_wrapper(fun,name))\n",
        "informationflow_init_1()\n",
        "INITIALIZER_LIST = [informationflow_init_1]\n",
        "def initialize():\n",
        "    for fn in INITIALIZER_LIST:\n",
        "        fn()\n",
        "\n",
        "initialize()"
      ],
      "metadata": {
        "id": "eOfGDBWzpCL5"
      },
      "execution_count": null,
      "outputs": []
    },
    {
      "cell_type": "markdown",
      "source": [
        "### Tests"
      ],
      "metadata": {
        "id": "qoYgY14J6G4a"
      }
    },
    {
      "cell_type": "code",
      "source": [
        "# Code: test1\n",
        "def doo(a):\n",
        "  # line 1\n",
        "  return a +\"a\" # line 2\n",
        "\n",
        "\n",
        "input = tstr(\"hello\", taint ='LOW')\n",
        "doo(input)\n",
        "input.trace"
      ],
      "metadata": {
        "colab": {
          "base_uri": "https://localhost:8080/",
          "height": 184
        },
        "id": "KKG7x7aRJH0i",
        "outputId": "24788523-20f0-450c-a155-8deed10a57d2"
      },
      "execution_count": null,
      "outputs": [
        {
          "output_type": "error",
          "ename": "AttributeError",
          "evalue": "'tstr' object has no attribute 'trace'",
          "traceback": [
            "\u001b[0;31m---------------------------------------------------------------------------\u001b[0m",
            "\u001b[0;31mAttributeError\u001b[0m                            Traceback (most recent call last)",
            "\u001b[0;32m<ipython-input-9-da0ecafa5261>\u001b[0m in \u001b[0;36m<cell line: 9>\u001b[0;34m()\u001b[0m\n\u001b[1;32m      7\u001b[0m \u001b[0minput\u001b[0m \u001b[0;34m=\u001b[0m \u001b[0mtstr\u001b[0m\u001b[0;34m(\u001b[0m\u001b[0;34m\"hello\"\u001b[0m\u001b[0;34m,\u001b[0m \u001b[0mtaint\u001b[0m \u001b[0;34m=\u001b[0m\u001b[0;34m'LOW'\u001b[0m\u001b[0;34m)\u001b[0m\u001b[0;34m\u001b[0m\u001b[0;34m\u001b[0m\u001b[0m\n\u001b[1;32m      8\u001b[0m \u001b[0mdoo\u001b[0m\u001b[0;34m(\u001b[0m\u001b[0minput\u001b[0m\u001b[0;34m)\u001b[0m\u001b[0;34m\u001b[0m\u001b[0;34m\u001b[0m\u001b[0m\n\u001b[0;32m----> 9\u001b[0;31m \u001b[0minput\u001b[0m\u001b[0;34m.\u001b[0m\u001b[0mtrace\u001b[0m\u001b[0;34m\u001b[0m\u001b[0;34m\u001b[0m\u001b[0m\n\u001b[0m",
            "\u001b[0;31mAttributeError\u001b[0m: 'tstr' object has no attribute 'trace'"
          ]
        }
      ]
    },
    {
      "cell_type": "code",
      "source": [
        "# Code: test2\n",
        "def imprimir(a):\n",
        "  print(\"value: \" + a) # line 1\n",
        "\n",
        "def bar(a):\n",
        "  c = a[:1]  # line 1\n",
        "  imprimir(c)     # line 2\n",
        "  # line 3\n",
        "  imprimir(a + c) # line 4\n",
        "\n",
        "def foo(a):\n",
        "  # line 1\n",
        "  return bar(a) # line 2\n",
        "\n",
        "\n",
        "input2 = tstr(\"hello,\")\n",
        "foo(input2)\n",
        "input2.trace"
      ],
      "metadata": {
        "colab": {
          "base_uri": "https://localhost:8080/",
          "height": 221
        },
        "id": "k8CRfpgNQ0Kz",
        "outputId": "c596cdbf-ba30-4375-86c1-f952b42e70fc"
      },
      "execution_count": null,
      "outputs": [
        {
          "output_type": "stream",
          "name": "stdout",
          "text": [
            "value: h\n",
            "value: hello,h\n"
          ]
        },
        {
          "output_type": "error",
          "ename": "AttributeError",
          "evalue": "'tstr' object has no attribute 'trace'",
          "traceback": [
            "\u001b[0;31m---------------------------------------------------------------------------\u001b[0m",
            "\u001b[0;31mAttributeError\u001b[0m                            Traceback (most recent call last)",
            "\u001b[0;32m<ipython-input-10-5146dbd01df8>\u001b[0m in \u001b[0;36m<cell line: 18>\u001b[0;34m()\u001b[0m\n\u001b[1;32m     16\u001b[0m \u001b[0minput2\u001b[0m \u001b[0;34m=\u001b[0m \u001b[0mtstr\u001b[0m\u001b[0;34m(\u001b[0m\u001b[0;34m\"hello,\"\u001b[0m\u001b[0;34m)\u001b[0m\u001b[0;34m\u001b[0m\u001b[0;34m\u001b[0m\u001b[0m\n\u001b[1;32m     17\u001b[0m \u001b[0mfoo\u001b[0m\u001b[0;34m(\u001b[0m\u001b[0minput2\u001b[0m\u001b[0;34m)\u001b[0m\u001b[0;34m\u001b[0m\u001b[0;34m\u001b[0m\u001b[0m\n\u001b[0;32m---> 18\u001b[0;31m \u001b[0minput2\u001b[0m\u001b[0;34m.\u001b[0m\u001b[0mtrace\u001b[0m\u001b[0;34m\u001b[0m\u001b[0;34m\u001b[0m\u001b[0m\n\u001b[0m",
            "\u001b[0;31mAttributeError\u001b[0m: 'tstr' object has no attribute 'trace'"
          ]
        }
      ]
    },
    {
      "cell_type": "code",
      "source": [
        "# Code: test3\n",
        "from urllib.parse import urlparse\n",
        "\n",
        "url_string = tstr(\"http://www.google.com/search?q=fuzzing\")\n",
        "urlparse(url_string)\n",
        "\n",
        "url_string.trace"
      ],
      "metadata": {
        "colab": {
          "base_uri": "https://localhost:8080/",
          "height": 184
        },
        "id": "HmtjiwXhSX7G",
        "outputId": "fe85be02-6c34-4516-c6ad-80a89016a442"
      },
      "execution_count": null,
      "outputs": [
        {
          "output_type": "error",
          "ename": "AttributeError",
          "evalue": "'tstr' object has no attribute 'trace'",
          "traceback": [
            "\u001b[0;31m---------------------------------------------------------------------------\u001b[0m",
            "\u001b[0;31mAttributeError\u001b[0m                            Traceback (most recent call last)",
            "\u001b[0;32m<ipython-input-11-52ab54bdb6af>\u001b[0m in \u001b[0;36m<cell line: 7>\u001b[0;34m()\u001b[0m\n\u001b[1;32m      5\u001b[0m \u001b[0murlparse\u001b[0m\u001b[0;34m(\u001b[0m\u001b[0murl_string\u001b[0m\u001b[0;34m)\u001b[0m\u001b[0;34m\u001b[0m\u001b[0;34m\u001b[0m\u001b[0m\n\u001b[1;32m      6\u001b[0m \u001b[0;34m\u001b[0m\u001b[0m\n\u001b[0;32m----> 7\u001b[0;31m \u001b[0murl_string\u001b[0m\u001b[0;34m.\u001b[0m\u001b[0mtrace\u001b[0m\u001b[0;34m\u001b[0m\u001b[0;34m\u001b[0m\u001b[0m\n\u001b[0m",
            "\u001b[0;31mAttributeError\u001b[0m: 'tstr' object has no attribute 'trace'"
          ]
        }
      ]
    },
    {
      "cell_type": "code",
      "source": [
        "import re\n",
        "\n",
        "\n",
        "email_pattern = tstr(r'\\S+@\\S+\\.\\S+')\n",
        "text = \"Contact us at support@example.com or info@example.org\"\n",
        "\n",
        "re.findall(email_pattern, text)\n",
        "\n",
        "email_pattern.trace"
      ],
      "metadata": {
        "colab": {
          "base_uri": "https://localhost:8080/",
          "height": 184
        },
        "id": "NVtVe-sgShMY",
        "outputId": "56ab6725-a0b8-44dc-c726-37fb1ea3c83f"
      },
      "execution_count": null,
      "outputs": [
        {
          "output_type": "error",
          "ename": "AttributeError",
          "evalue": "'tstr' object has no attribute 'trace'",
          "traceback": [
            "\u001b[0;31m---------------------------------------------------------------------------\u001b[0m",
            "\u001b[0;31mAttributeError\u001b[0m                            Traceback (most recent call last)",
            "\u001b[0;32m<ipython-input-12-6e638334ab64>\u001b[0m in \u001b[0;36m<cell line: 9>\u001b[0;34m()\u001b[0m\n\u001b[1;32m      7\u001b[0m \u001b[0mre\u001b[0m\u001b[0;34m.\u001b[0m\u001b[0mfindall\u001b[0m\u001b[0;34m(\u001b[0m\u001b[0memail_pattern\u001b[0m\u001b[0;34m,\u001b[0m \u001b[0mtext\u001b[0m\u001b[0;34m)\u001b[0m\u001b[0;34m\u001b[0m\u001b[0;34m\u001b[0m\u001b[0m\n\u001b[1;32m      8\u001b[0m \u001b[0;34m\u001b[0m\u001b[0m\n\u001b[0;32m----> 9\u001b[0;31m \u001b[0memail_pattern\u001b[0m\u001b[0;34m.\u001b[0m\u001b[0mtrace\u001b[0m\u001b[0;34m\u001b[0m\u001b[0;34m\u001b[0m\u001b[0m\n\u001b[0m",
            "\u001b[0;31mAttributeError\u001b[0m: 'tstr' object has no attribute 'trace'"
          ]
        }
      ]
    },
    {
      "cell_type": "markdown",
      "source": [
        "## Testing the html report"
      ],
      "metadata": {
        "id": "XwieJFqFsoyv"
      }
    },
    {
      "cell_type": "code",
      "source": [
        "from collections import defaultdict\n",
        "from pygments import highlight\n",
        "from pygments.lexers import PythonLexer\n",
        "from pygments.formatters import *\n",
        "import inspect\n",
        "\n",
        "def to_html(trace):\n",
        "  # complete la función, puede crear mas funciones auxiliares si necesita\n",
        "  pass"
      ],
      "metadata": {
        "id": "cFKaLGluPyvE"
      },
      "execution_count": null,
      "outputs": []
    },
    {
      "cell_type": "code",
      "source": [
        "from IPython.display import HTML, display\n",
        "\n",
        "def imprimir(a):\n",
        "  print(\"value: \" + a) # line 1\n",
        "\n",
        "def bar(a):\n",
        "  c = a[:1]  # line 1\n",
        "  imprimir(c)     # line 2\n",
        "  # line 3\n",
        "  imprimir(a + c) # line 4\n",
        "\n",
        "def foo(a):\n",
        "  # line 1\n",
        "  return bar(a) # line 2\n",
        "\n",
        "\n",
        "html_input = tstr(\"hello sdfgsdf\")\n",
        "foo(html_input)\n",
        "\n",
        "\n",
        "display(HTML(to_html(html_input.trace)))"
      ],
      "metadata": {
        "colab": {
          "base_uri": "https://localhost:8080/",
          "height": 221
        },
        "id": "MksTiKorsqXh",
        "outputId": "390ba004-8fa7-4bab-d09f-420bfdf37050"
      },
      "execution_count": null,
      "outputs": [
        {
          "output_type": "stream",
          "name": "stdout",
          "text": [
            "value: h\n",
            "value: hello sdfgsdfh\n"
          ]
        },
        {
          "output_type": "error",
          "ename": "AttributeError",
          "evalue": "'tstr' object has no attribute 'trace'",
          "traceback": [
            "\u001b[0;31m---------------------------------------------------------------------------\u001b[0m",
            "\u001b[0;31mAttributeError\u001b[0m                            Traceback (most recent call last)",
            "\u001b[0;32m<ipython-input-14-27743ffb960c>\u001b[0m in \u001b[0;36m<cell line: 21>\u001b[0;34m()\u001b[0m\n\u001b[1;32m     19\u001b[0m \u001b[0;34m\u001b[0m\u001b[0m\n\u001b[1;32m     20\u001b[0m \u001b[0;34m\u001b[0m\u001b[0m\n\u001b[0;32m---> 21\u001b[0;31m \u001b[0mdisplay\u001b[0m\u001b[0;34m(\u001b[0m\u001b[0mHTML\u001b[0m\u001b[0;34m(\u001b[0m\u001b[0mto_html\u001b[0m\u001b[0;34m(\u001b[0m\u001b[0mhtml_input\u001b[0m\u001b[0;34m.\u001b[0m\u001b[0mtrace\u001b[0m\u001b[0;34m)\u001b[0m\u001b[0;34m)\u001b[0m\u001b[0;34m)\u001b[0m\u001b[0;34m\u001b[0m\u001b[0;34m\u001b[0m\u001b[0m\n\u001b[0m",
            "\u001b[0;31mAttributeError\u001b[0m: 'tstr' object has no attribute 'trace'"
          ]
        }
      ]
    }
  ]
}